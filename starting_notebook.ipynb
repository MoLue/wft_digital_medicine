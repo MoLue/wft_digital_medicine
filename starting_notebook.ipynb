{
  "nbformat": 4,
  "nbformat_minor": 0,
  "metadata": {
    "colab": {
      "provenance": [],
      "authorship_tag": "ABX9TyO25ABYep3Rs1654jwUM7ek",
      "include_colab_link": true
    },
    "kernelspec": {
      "name": "python3",
      "display_name": "Python 3"
    },
    "language_info": {
      "name": "python"
    }
  },
  "cells": [
    {
      "cell_type": "markdown",
      "metadata": {
        "id": "view-in-github",
        "colab_type": "text"
      },
      "source": [
        "<a href=\"https://colab.research.google.com/github/MoLue/wft_digital_medicine/blob/main/starting_notebook.ipynb\" target=\"_parent\"><img src=\"https://colab.research.google.com/assets/colab-badge.svg\" alt=\"Open In Colab\"/></a>"
      ]
    },
    {
      "cell_type": "markdown",
      "source": [
        "# WFT Digitale Medizin - Python, Data Science and NLP Learning Hub!\n",
        "\n",
        "## Introduction\n",
        "\n",
        "Welcome! 🎉\n",
        "\n",
        "This notebook series is designed to help you explore **Python programming**, **Natural Language Processing (NLP)**, and **Data Science**- skills for anyone who is interested in leveraging data to improve patient outcomes.  \n",
        "\n",
        "Whether you are a complete beginner or have some experience, this hub will guide you through various levels of expertise, from basic Python programming to advanced techniques like **using large language models (LLMs)**.\n",
        "\n",
        "\n",
        "## 📚 Notebooks\n",
        "\n",
        "This learning path is divided into three levels based on your current skillset and / or field of interest:\n",
        "\n",
        "### **Python Basics**\n",
        "If you're new to programming, start here! You'll learn:\n",
        "- Basic Python syntax\n",
        "- Working with data structures (lists, dictionaries, etc.)\n",
        "- Writing simple functions\n",
        "\n",
        "[**Start with Python Basics Notebook**](https://colab.research.google.com/github/kaiu85/cv-workshop/blob/main/Jupyter_Intro/colab_intro.ipynb)\n",
        "\n",
        "\n",
        "Get hands-on experience with plotting and basic maths.\n",
        "- Learn to calculate and plot Positive Predictive Values (PPVs) using Python.\n",
        "- Explore how sensitivity, specificity, and pre-test probability influence PPVs.\n",
        "- Practice filling in code cells to get hands-on experience with Python and Colab.\n",
        "\n",
        "[**Start with PPV hands-on**](https://colab.research.google.com/github/kaiu85/cv-workshop/blob/main/Jupyter_Intro/ppv_exercise.ipynb)\n",
        "\n",
        "\n",
        "### **Exploring Date Science and the way of working with data**\n",
        "In this section, you'll dive into:\n",
        "- **Data Science Basics**: Introduction to libraries like `pandas`, `numpy`, and `matplotlib`.\n",
        "\n",
        "\n",
        "[**Explore Data Science**](https://colab.research.google.com/github/MoLue/wft_digital_medicine/blob/main/wft_ds.ipynb)\n",
        "\n",
        "\n",
        "### **NLP and LLM**\n",
        "This section covers:\n",
        "- **NLP Foundations**: Basic text processing using libraries like `spaCy`.\n",
        "- Using **transformers** and **LLMs** for medical text analysis\n",
        "\n",
        "[**NLP and LLM Notebook**](https://colab.research.google.com/github/MoLue/wft_digital_medicine/blob/main/dm_nlp.ipynb)\n",
        "\n",
        "\n",
        "---\n",
        "\n",
        "### Let’s Begin!\n",
        "\n",
        "Click on the appropriate notebook link above to get started. 🚀\n"
      ],
      "metadata": {
        "id": "70RFH2-w97OP"
      }
    }
  ]
}